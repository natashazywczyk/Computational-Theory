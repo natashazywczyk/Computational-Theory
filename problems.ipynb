{
 "cells": [
  {
   "cell_type": "markdown",
   "id": "a33a97a5",
   "metadata": {},
   "source": [
    "# Computational Theory Problems"
   ]
  },
  {
   "cell_type": "code",
   "execution_count": 3,
   "id": "d7c1b512",
   "metadata": {},
   "outputs": [],
   "source": [
    "# Numerical arrays and methods\n",
    "import numpy as np"
   ]
  },
  {
   "cell_type": "markdown",
   "id": "01049ea5",
   "metadata": {},
   "source": [
    "## Problem 1: Binary Words and Operations"
   ]
  },
  {
   "cell_type": "code",
   "execution_count": null,
   "id": "2d0bca6c",
   "metadata": {},
   "outputs": [
    {
     "name": "stdout",
     "output_type": "stream",
     "text": [
      "Even Parity\n",
      "Odd Parity\n"
     ]
    }
   ],
   "source": [
    "# Find the parity of a number of 32-bits\n",
    "def Parity(x, y, z):\n",
    "    \"\"\"Find if there is parity between 3 different 32 bit integers\"\"\"\n",
    "\n",
    "    return (np.uint32(x) ^ np.uint32(y) ^ np.uint32(z));"
   ]
  },
  {
   "cell_type": "code",
   "execution_count": null,
   "id": "ff97faa0",
   "metadata": {},
   "outputs": [],
   "source": [
    "# Function to find result of choice\n",
    "def Choice(x, y, z):\n",
    "    \"\"\" Chooses a bit from y if x bit is 1 for each bit, otherwise use bit from z\"\"\"\n",
    "    firstCompare = np.uint32(x) & np.uint32(y)\n",
    "    secondCompare = ~np.uint32(x) & np.uint32(z)\n",
    "\n",
    "    return firstCompare ^ secondCompare;"
   ]
  },
  {
   "cell_type": "code",
   "execution_count": null,
   "id": "b083ad74",
   "metadata": {},
   "outputs": [],
   "source": [
    "# Function to find result of majority\n",
    "def findMajority(x, y, z):\n",
    "    \"\"\" Find whether 2 of the bits are 1 or 0 \"\"\"\n",
    "    \"\"\" If 2 or more are 1, 1 is the majority \"\"\"\n",
    "    x = np.uint32(x)\n",
    "    y = np.uint32(y)\n",
    "    z = np.uint32(z)\n",
    "\n",
    "    firstCompare = x & y\n",
    "    secondCompare = x & z\n",
    "    thirdCompare = y & z\n",
    "\n",
    "    return firstCompare ^ secondCompare ^ thirdCompare;"
   ]
  },
  {
   "cell_type": "code",
   "execution_count": null,
   "id": "877e0f44",
   "metadata": {},
   "outputs": [],
   "source": [
    "# Function of inverse sigma of a bitwise integer with XOR of three right rotations by 2, 13 and 22.\n",
    "def Sigma0(x):\n",
    "    \"\"\" ROTRn(x) = ( x >> n ) v ( x << w - n ) \"\"\"\n",
    "\n",
    "    x = np.uint32(x)\n",
    "\n",
    "    rotr2 = (x >> 2) | (x << x - 2)\n",
    "    rotr13 = (x >> 13) | (x << x - 13)\n",
    "    rotr22 = (x >> 22) | (x << x - 22)\n",
    "\n",
    "    return rotr2 ^ rotr13 ^ rotr22;"
   ]
  },
  {
   "cell_type": "code",
   "execution_count": null,
   "id": "59e90a58",
   "metadata": {},
   "outputs": [],
   "source": [
    "# Function of inverse sigma of a bitwise integer with XOR of three right rotations by 6, 11, 25.\n",
    "def Sigma1(x):\n",
    "    \"\"\" ROTRn(x) = ( x >> n ) v ( x << w - n ) \"\"\"\n",
    "\n",
    "    x = np.uint32(x)\n",
    "\n",
    "    rotr6 = (x >> 6) | (x << x - 6)\n",
    "    rotr11 = (x >> 11) | (x << x - 11)\n",
    "    rotr25 = (x >> 25) | (x << x - 25)\n",
    "\n",
    "    return rotr6 ^ rotr11 ^ rotr25;"
   ]
  },
  {
   "cell_type": "code",
   "execution_count": null,
   "id": "ba9d814b",
   "metadata": {},
   "outputs": [],
   "source": [
    "# Function XOR of two right rotations, by 7 and 18,  and a right shift by 3.\n",
    "def sigma0(x):\n",
    "    \"\"\" ROTRn(x) = ( x >> n ) v ( x << w - n ) \"\"\"\n",
    "    \"\"\" SHRn(x) = x >> n \"\"\"\n",
    "\n",
    "    x = np.uint32(x)\n",
    "\n",
    "    rotr7 = (x >> 7) | (x << x - 7)\n",
    "    rotr18 = (x >> 18) | (x << x - 18)\n",
    "    shr3 = (x >> 3)\n",
    "\n",
    "    return rotr7 ^ rotr18 ^ shr3;"
   ]
  },
  {
   "cell_type": "code",
   "execution_count": null,
   "id": "d39d724f",
   "metadata": {},
   "outputs": [],
   "source": [
    "# Function XOR of two right rotations, by 17 and 19, and a right shift by 10.\n",
    "def sigma1(x):\n",
    "    return;"
   ]
  },
  {
   "cell_type": "markdown",
   "id": "d153f495",
   "metadata": {},
   "source": [
    "## Problem 2: Fractional Parts of Cube Roots"
   ]
  },
  {
   "cell_type": "code",
   "execution_count": null,
   "id": "6a2a4458",
   "metadata": {},
   "outputs": [],
   "source": []
  },
  {
   "cell_type": "markdown",
   "id": "5cac6afc",
   "metadata": {},
   "source": [
    "## Problem 3: Padding"
   ]
  },
  {
   "cell_type": "code",
   "execution_count": null,
   "id": "1fd31954",
   "metadata": {},
   "outputs": [],
   "source": []
  },
  {
   "cell_type": "markdown",
   "id": "6c77357f",
   "metadata": {},
   "source": [
    "## Problem 4: Hashes"
   ]
  },
  {
   "cell_type": "code",
   "execution_count": null,
   "id": "080a35d5",
   "metadata": {},
   "outputs": [],
   "source": []
  },
  {
   "cell_type": "markdown",
   "id": "180a389b",
   "metadata": {},
   "source": [
    "## Problem 5: Passwords"
   ]
  },
  {
   "cell_type": "code",
   "execution_count": null,
   "id": "03a8ca10",
   "metadata": {},
   "outputs": [],
   "source": []
  }
 ],
 "metadata": {
  "kernelspec": {
   "display_name": "Python 3",
   "language": "python",
   "name": "python3"
  },
  "language_info": {
   "codemirror_mode": {
    "name": "ipython",
    "version": 3
   },
   "file_extension": ".py",
   "mimetype": "text/x-python",
   "name": "python",
   "nbconvert_exporter": "python",
   "pygments_lexer": "ipython3",
   "version": "3.12.1"
  }
 },
 "nbformat": 4,
 "nbformat_minor": 5
}
