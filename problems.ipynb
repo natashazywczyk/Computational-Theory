{
 "cells": [
  {
   "cell_type": "markdown",
   "id": "a33a97a5",
   "metadata": {},
   "source": [
    "# Computational Theory Problems"
   ]
  },
  {
   "cell_type": "code",
   "execution_count": 3,
   "id": "d7c1b512",
   "metadata": {},
   "outputs": [],
   "source": [
    "# Numerical arrays and methods\n",
    "import numpy as np"
   ]
  },
  {
   "cell_type": "markdown",
   "id": "01049ea5",
   "metadata": {},
   "source": [
    "## Problem 1: Binary Words and Operations"
   ]
  },
  {
   "cell_type": "code",
   "execution_count": 20,
   "id": "2d0bca6c",
   "metadata": {},
   "outputs": [
    {
     "name": "stdout",
     "output_type": "stream",
     "text": [
      "Even Parity\n",
      "Odd Parity\n"
     ]
    }
   ],
   "source": [
    "# Find the parity of a number of 32-bits\n",
    "def findParity(x):\n",
    "    \"\"\"If left most integer of n is 0, it has even parity, else it is odd\"\"\"\n",
    "    y = x ^ (x >> 1);\n",
    "    y = y ^ (y >> 2);\n",
    "    y = y ^ (y >> 4);\n",
    "    y = y ^ (y >> 8);\n",
    "    y = y ^ (y >> 16);\n",
    "\n",
    "    if (y & 1):\n",
    "        return 1;\n",
    "    return 0;\n",
    "\n",
    "# Examples of finding parity\n",
    "if(findParity(9) == 0):\n",
    "    print(\"Even Parity\");\n",
    "else:\n",
    "    print(\"Odd Parity\\n\");\n",
    "\n",
    "if(findParity(13) == 0):\n",
    "    print(\"Even Parity\");\n",
    "else:\n",
    "    print(\"Odd Parity\");\n",
    "\n",
    "\n",
    "def Parity(x, y, z):\n",
    "    \"\"\"Find if there is parity between 3 different 32 bit integers\"\"\"\n",
    "    x = findParity(np.uint(x))\n",
    "    y = findParity(np.uint(y))\n",
    "    z = findParity(np.uint(z))\n",
    "\n",
    "    return x ^ y ^ z;"
   ]
  },
  {
   "cell_type": "code",
   "execution_count": null,
   "id": "ff97faa0",
   "metadata": {},
   "outputs": [],
   "source": [
    "# Function to find result of choice\n",
    "def findChoice(x, y, z):\n",
    "    \"\"\" Chooses a bit from y if x bit is 1 for each bit, otherwise use bit from z\"\"\"\n",
    "    firstCompare = np.uint32(x) & np.uint(y)\n",
    "    secondCompare = ~np.uint32(x) & np.uint(z)\n",
    "\n",
    "    return firstCompare ^ secondCompare;"
   ]
  },
  {
   "cell_type": "markdown",
   "id": "d153f495",
   "metadata": {},
   "source": [
    "## Problem 2: Fractional Parts of Cube Roots"
   ]
  },
  {
   "cell_type": "code",
   "execution_count": null,
   "id": "6a2a4458",
   "metadata": {},
   "outputs": [],
   "source": []
  },
  {
   "cell_type": "markdown",
   "id": "5cac6afc",
   "metadata": {},
   "source": [
    "## Problem 3: Padding"
   ]
  },
  {
   "cell_type": "code",
   "execution_count": null,
   "id": "1fd31954",
   "metadata": {},
   "outputs": [],
   "source": []
  },
  {
   "cell_type": "markdown",
   "id": "6c77357f",
   "metadata": {},
   "source": [
    "## Problem 4: Hashes"
   ]
  },
  {
   "cell_type": "code",
   "execution_count": null,
   "id": "080a35d5",
   "metadata": {},
   "outputs": [],
   "source": []
  },
  {
   "cell_type": "markdown",
   "id": "180a389b",
   "metadata": {},
   "source": [
    "## Problem 5: Passwords"
   ]
  },
  {
   "cell_type": "code",
   "execution_count": null,
   "id": "03a8ca10",
   "metadata": {},
   "outputs": [],
   "source": []
  }
 ],
 "metadata": {
  "kernelspec": {
   "display_name": "Python 3",
   "language": "python",
   "name": "python3"
  },
  "language_info": {
   "codemirror_mode": {
    "name": "ipython",
    "version": 3
   },
   "file_extension": ".py",
   "mimetype": "text/x-python",
   "name": "python",
   "nbconvert_exporter": "python",
   "pygments_lexer": "ipython3",
   "version": "3.12.1"
  }
 },
 "nbformat": 4,
 "nbformat_minor": 5
}
